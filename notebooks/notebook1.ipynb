{
 "cells": [
  {
   "cell_type": "markdown",
   "metadata": {},
   "source": [
    "- Student 1 Name:\n",
    "- Student 2 Name:\n",
    "\n",
    "change the name of this notebook to  `name_1_name_2_notebook_??.ipynb` with *no spaces, no accents and no strange characters!* and where `??` stands for the number of the notebook you are working on."
   ]
  },
  {
   "cell_type": "markdown",
   "metadata": {},
   "source": [
    "# PPM Numerical Methods -- Numerical Methods for Physics"
   ]
  },
  {
   "cell_type": "markdown",
   "metadata": {},
   "source": [
    "# Numerical methods: basics and linear regression"
   ]
  },
  {
   "cell_type": "markdown",
   "metadata": {},
   "source": [
    "# Numbers, approximations and errors"
   ]
  },
  {
   "cell_type": "markdown",
   "metadata": {},
   "source": [
    "Import the needed packages"
   ]
  },
  {
   "cell_type": "code",
   "execution_count": null,
   "metadata": {},
   "outputs": [],
   "source": []
  },
  {
   "cell_type": "markdown",
   "metadata": {},
   "source": [
    "### Write a program that determines the underflow and overflow limits"
   ]
  },
  {
   "cell_type": "code",
   "execution_count": null,
   "metadata": {},
   "outputs": [],
   "source": []
  },
  {
   "cell_type": "markdown",
   "metadata": {},
   "source": [
    "### Write a program to determine the machine precision (within a factor of two)"
   ]
  },
  {
   "cell_type": "code",
   "execution_count": null,
   "metadata": {},
   "outputs": [],
   "source": []
  },
  {
   "cell_type": "markdown",
   "metadata": {},
   "source": [
    "### Explore subtractive cancellation"
   ]
  },
  {
   "cell_type": "markdown",
   "metadata": {},
   "source": [
    "Consider the fucntions:\n",
    "$$f(x)=\\frac{1-\\sqrt{1-t(x)^2}}{t(x)}$$  where $$t(x)=e^{-\\pi x}$$\n",
    "\n",
    "- plot the function $f(x)$ for $x$ in the range $[5,7]$\n",
    "\n",
    "Rewrite the function $f(x)$ as\n",
    "\n",
    "$$ \\frac{t(x)}{1+\\sqrt{1-t(x)^2}} $$\n",
    "\n",
    "- plot on the same graph the two functions and comment\n",
    "\n",
    "- label the axes"
   ]
  },
  {
   "cell_type": "code",
   "execution_count": null,
   "metadata": {},
   "outputs": [],
   "source": []
  },
  {
   "cell_type": "markdown",
   "metadata": {},
   "source": [
    "# Linear regression"
   ]
  },
  {
   "cell_type": "markdown",
   "metadata": {},
   "source": [
    "### Linear regression on simple data sets"
   ]
  },
  {
   "cell_type": "markdown",
   "metadata": {},
   "source": [
    "- Write a function that given the input data returns the fitting parameters $a_1$ and $a_2$. The function template is:\n",
    "\n",
    "```python\n",
    "def lin_reg(x_data, y_data):\n",
    "    \"\"\"Function documentation\"\"\"\n",
    "    \n",
    "\n",
    "    return (a0, a1)\n",
    "```\n",
    "\n",
    "- Test your function on a simple set of data: plot the data and the fitted function"
   ]
  },
  {
   "cell_type": "code",
   "execution_count": null,
   "metadata": {},
   "outputs": [],
   "source": []
  },
  {
   "cell_type": "markdown",
   "metadata": {},
   "source": [
    "### Linear regression on solar wind data"
   ]
  },
  {
   "cell_type": "markdown",
   "metadata": {},
   "source": [
    "We are now going to perform a linear regression fitting on measurements of the solar wind from the spacecraft [ULYSSE](https://en.wikipedia.org/wiki/Ulysses_(spacecraft))."
   ]
  },
  {
   "cell_type": "markdown",
   "metadata": {},
   "source": [
    "- The solar wind data is in the file `ulysse.txt` in the `data/` folder. The data file contains thre columns\n",
    "    1. First column: the heliocentric distance in AU (astronomical units), $r$\n",
    "    2. Second column: the solar wind density in m$^{-3}$, $n(r)$\n",
    "    3. Third column: the temperature in Kelvin, $T(r)$\n",
    "    \n",
    "- load and plot the data (always label your plots and put the units!!)"
   ]
  },
  {
   "cell_type": "code",
   "execution_count": null,
   "metadata": {},
   "outputs": [],
   "source": []
  },
  {
   "cell_type": "markdown",
   "metadata": {},
   "source": [
    "The solar wind is \"well\" approximated as steady-state, spherically symmetric expanding plasma sphere. The expected density as a function of heliocentric distance is: $$n(r) = \\alpha r^{-2}$$\n",
    " - From conservation of mass and momentum, can you show why it is so?\n",
    " - Fit the satellite data...be careful, you want to do a linear regression on a power law data.\n",
    " - Plot the data and your fit.\n",
    "     - Would you conclude that the solar wind density distribution is as \"expected\"?"
   ]
  },
  {
   "cell_type": "code",
   "execution_count": null,
   "metadata": {},
   "outputs": [],
   "source": []
  },
  {
   "cell_type": "markdown",
   "metadata": {},
   "source": [
    "Assuming the solar wind to behave as a perfect gas ($\\gamma = 5/3$), the pressure is then given by: $$P(r) = k_{B} n(r) T(r)$$\n",
    "\n",
    " - By fitting the pressure data as function of distance, show that the solar wind expansion is neither adiabatic nor isothermal"
   ]
  },
  {
   "cell_type": "code",
   "execution_count": null,
   "metadata": {},
   "outputs": [],
   "source": []
  }
 ],
 "metadata": {
  "kernelspec": {
   "display_name": "Python 3",
   "language": "python",
   "name": "python3"
  },
  "language_info": {
   "codemirror_mode": {
    "name": "ipython",
    "version": 3
   },
   "file_extension": ".py",
   "mimetype": "text/x-python",
   "name": "python",
   "nbconvert_exporter": "python",
   "pygments_lexer": "ipython3",
   "version": "3.8.10"
  },
  "toc": {
   "base_numbering": 1,
   "nav_menu": {},
   "number_sections": true,
   "sideBar": true,
   "skip_h1_title": false,
   "title_cell": "Table of Contents",
   "title_sidebar": "Contents",
   "toc_cell": false,
   "toc_position": {},
   "toc_section_display": true,
   "toc_window_display": false
  },
  "varInspector": {
   "cols": {
    "lenName": 16,
    "lenType": 16,
    "lenVar": 40
   },
   "kernels_config": {
    "python": {
     "delete_cmd_postfix": "",
     "delete_cmd_prefix": "del ",
     "library": "var_list.py",
     "varRefreshCmd": "print(var_dic_list())"
    },
    "r": {
     "delete_cmd_postfix": ") ",
     "delete_cmd_prefix": "rm(",
     "library": "var_list.r",
     "varRefreshCmd": "cat(var_dic_list()) "
    }
   },
   "types_to_exclude": [
    "module",
    "function",
    "builtin_function_or_method",
    "instance",
    "_Feature"
   ],
   "window_display": false
  }
 },
 "nbformat": 4,
 "nbformat_minor": 4
}
