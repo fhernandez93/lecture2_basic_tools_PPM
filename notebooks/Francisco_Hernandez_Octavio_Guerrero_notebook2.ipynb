{
 "cells": [
  {
   "cell_type": "markdown",
   "source": [
    "- Student 1 Name:\n",
    "- Student 2 Name:\n",
    "\n",
    "change the name of this notebook to  `name_1_name_2_notebook_??.ipynb` with *no spaces, no accents and no strange characters!* and where `??` stands for the number of the notebook you are working on."
   ],
   "metadata": {}
  },
  {
   "cell_type": "markdown",
   "source": [
    "# PPM Numerical Methods -- Numerical Methods for Physics"
   ],
   "metadata": {}
  },
  {
   "cell_type": "markdown",
   "source": [
    "# Numerical methods: Root finding"
   ],
   "metadata": {}
  },
  {
   "cell_type": "markdown",
   "source": [
    "# Root finding"
   ],
   "metadata": {}
  },
  {
   "cell_type": "markdown",
   "source": [
    "## Bisection method"
   ],
   "metadata": {}
  },
  {
   "cell_type": "markdown",
   "source": [
    "Use the bisection method to find the root of the function\n",
    "    $$ f(x) = \\frac{1}{2} - e^{-x}$$\n",
    "think carefully how to estimate the error to end the calculation. "
   ],
   "metadata": {}
  },
  {
   "cell_type": "code",
   "execution_count": 1,
   "source": [
    "import numpy as np \n",
    "\n",
    "def function_test(x):\n",
    "    func = 1/2-np.exp(-x)\n",
    "    return func\n",
    "\n",
    "def bisection(interval, error_tolerance):\n",
    "    a = interval[0]\n",
    "    b = interval[1]\n",
    "    fa = function_test(a)\n",
    "    fb = function_test(b)\n",
    "    c = (a+b)/2\n",
    "    fc = function_test(c)\n",
    "    if( fa*fb>=0):\n",
    "        print(\"Incorrect function or interval\")\n",
    "        return \"\"\n",
    "    while (abs(fc)>error_tolerance):\n",
    "        if(fa*fc<0):\n",
    "            b = c\n",
    "            fb = fc  \n",
    "        else: \n",
    "            a=c\n",
    "            fa=fc\n",
    "            \n",
    "        c = (a+b)/2\n",
    "        fc = function_test(c)\n",
    "    \n",
    "    print(\"Root: \",c)\n",
    "    return \"\"\n",
    "\n",
    "bisection([-10,10], 0.001)\n",
    "\n",
    "\n",
    "\n",
    "    \n"
   ],
   "outputs": [
    {
     "output_type": "stream",
     "name": "stdout",
     "text": [
      "Root:  0.693359375\n"
     ]
    },
    {
     "output_type": "execute_result",
     "data": {
      "text/plain": [
       "''"
      ]
     },
     "metadata": {},
     "execution_count": 1
    }
   ],
   "metadata": {}
  },
  {
   "cell_type": "markdown",
   "source": [
    "## False-position method"
   ],
   "metadata": {}
  },
  {
   "cell_type": "markdown",
   "source": [
    "Use the false position method to find the root of the function\n",
    "    $$ f(x) = \\frac{1}{2} - e^{-x}$$\n",
    "and compare to the bisection method"
   ],
   "metadata": {}
  },
  {
   "cell_type": "code",
   "execution_count": 2,
   "source": [
    "def false_position(interval, error_tolerance):\n",
    "    a = interval[0]\n",
    "    b = interval[1]\n",
    "    fa = function_test(a)\n",
    "    fb = function_test(b)\n",
    "    c = b-(fb*(a-b))/(fa-fb)\n",
    "    fc = function_test(c)\n",
    "    if( fa*fb>=0):\n",
    "        print(\"Incorrect function or interval\")\n",
    "        return \"\"\n",
    "    while (abs(fc)>error_tolerance):\n",
    "        if(fa*fc<0):\n",
    "            b = c\n",
    "            fb = fc  \n",
    "        else: \n",
    "            a=c\n",
    "            fa=fc\n",
    "            \n",
    "        c =  b-(fb*(a-b))/(fa-fb)\n",
    "        fc = function_test(c)\n",
    "    \n",
    "    print(\"Root: \",c)\n",
    "    return \"\"\n",
    "\n",
    "false_position([-10,10], 0.001)\n"
   ],
   "outputs": [
    {
     "output_type": "stream",
     "name": "stdout",
     "text": [
      "Root:  0.6951487883538305\n"
     ]
    },
    {
     "output_type": "execute_result",
     "data": {
      "text/plain": [
       "''"
      ]
     },
     "metadata": {},
     "execution_count": 2
    }
   ],
   "metadata": {}
  },
  {
   "cell_type": "markdown",
   "source": [
    "## The Newton-Raphson Method"
   ],
   "metadata": {}
  },
  {
   "cell_type": "markdown",
   "source": [
    "Implement the Newton-Rapshon method to solve \n",
    "$$ f(x) = \\frac{1}{2} - e^{-x}$$\n",
    "and compare to the bisection and false position methods\n",
    "\n",
    "- Try different starting guess values, e.g. -1, 1, 5 and 30\n",
    "- Comment"
   ],
   "metadata": {}
  },
  {
   "cell_type": "code",
   "execution_count": 10,
   "source": [
    "def newton_raphson(guess_value,error_tolerance):\n",
    "    \n",
    "    fa = function_test(guess_value)\n",
    "    fa_derivative = np.exp(-guess_value)\n",
    "    c = guess_value - fa/fa_derivative\n",
    "\n",
    "    while(abs(fa)>error_tolerance):\n",
    "         if(np.isinf(np.exp(-c))):\n",
    "            return \"Overflow found at this guess value\"\n",
    "         fa_derivative = np.exp(-c)\n",
    "         c = c - fa/fa_derivative\n",
    "         fa = function_test(c)\n",
    "    \n",
    "    \n",
    "    return c\n",
    "\n",
    "print(\"Root value -1: \",newton_raphson(-1,0.001),\"\\nRoot value 1: \",newton_raphson(1,0.001),\"\\nRoot value 5: \",newton_raphson(5,0.001),\"\\nRoot value 30: \",newton_raphson(30,0.001))\n"
   ],
   "outputs": [
    {
     "output_type": "stream",
     "name": "stdout",
     "text": [
      "Root value -1:  0.6930324109051291 \n",
      "Root value 1:  0.6922930924098034 \n",
      "Root value 5:  0.6931404827766411 \n",
      "Root value 30:  Overflow found at this guess value\n"
     ]
    },
    {
     "output_type": "stream",
     "name": "stderr",
     "text": [
      "/var/folders/pn/7xb0xrx119l4_783pgg7gp140000gn/T/ipykernel_35502/2900371597.py:8: RuntimeWarning: overflow encountered in exp\n",
      "  if(np.isinf(np.exp(-c))):\n"
     ]
    }
   ],
   "metadata": {}
  },
  {
   "cell_type": "markdown",
   "source": [
    "## The Secant Method"
   ],
   "metadata": {}
  },
  {
   "cell_type": "markdown",
   "source": [
    "Implement the Newton-Rapshon method to solve \n",
    "$$ f(x) = \\frac{1}{2} - e^{-x}$$\n",
    "and compare to the bisection and false position methods\n",
    "\n",
    "- Try different starting guess values, e.g. -1, 1, 5 and 30\n",
    "- Comment"
   ],
   "metadata": {}
  },
  {
   "cell_type": "code",
   "execution_count": 4,
   "source": [
    "def secant(guess_value,guess_value2,error_tolerance):\n",
    "    a = guess_value\n",
    "    b = guess_value2\n",
    "    fa= function_test(a)\n",
    "    fb= function_test(b)\n",
    "    c = b - (fb*(a-b))/(fa-fb)\n",
    "    fc = function_test(c)\n",
    "    \n",
    "\n",
    "    while(abs(fc)>error_tolerance):\n",
    "         fa = function_test(a)\n",
    "         fb = function_test(b)\n",
    "         c = b - (fb*(a-b))/(fa-fb)\n",
    "         fc = function_test(c)\n",
    "         a = b\n",
    "         b= c\n",
    "\n",
    "    return c\n",
    "\n",
    "secant(-1,1,0.001)"
   ],
   "outputs": [
    {
     "output_type": "execute_result",
     "data": {
      "text/plain": [
       "0.6931995518864232"
      ]
     },
     "metadata": {},
     "execution_count": 4
    }
   ],
   "metadata": {}
  },
  {
   "cell_type": "markdown",
   "source": [
    "## The Modified Secant Method"
   ],
   "metadata": {}
  },
  {
   "cell_type": "markdown",
   "source": [
    "Implement the modified secant method and compare it to the other methods."
   ],
   "metadata": {}
  },
  {
   "cell_type": "code",
   "execution_count": 5,
   "source": [
    "def secant_mod(perturbation,guess_value,error_tolerance):\n",
    "    a = guess_value\n",
    "    b = perturbation\n",
    "    fa= function_test(a)\n",
    "    c = a-((b)*fa)/(function_test(a+b)-fa)\n",
    "    fc = function_test(c)\n",
    "    \n",
    "\n",
    "    while(abs(fc)>error_tolerance):\n",
    "         fa = function_test(a)\n",
    "         c = a-((b)*fa)/(function_test(a+b)-fa)\n",
    "         fc = function_test(c)\n",
    "         a = c\n",
    "\n",
    "    return c\n",
    "\n",
    "secant_mod(1,0.001,0.00001)"
   ],
   "outputs": [
    {
     "output_type": "execute_result",
     "data": {
      "text/plain": [
       "0.6931653232070798"
      ]
     },
     "metadata": {},
     "execution_count": 5
    }
   ],
   "metadata": {}
  },
  {
   "cell_type": "code",
   "execution_count": null,
   "source": [],
   "outputs": [],
   "metadata": {}
  }
 ],
 "metadata": {
  "kernelspec": {
   "name": "python3",
   "display_name": "Python 3.9.6 64-bit"
  },
  "language_info": {
   "codemirror_mode": {
    "name": "ipython",
    "version": 3
   },
   "file_extension": ".py",
   "mimetype": "text/x-python",
   "name": "python",
   "nbconvert_exporter": "python",
   "pygments_lexer": "ipython3",
   "version": "3.9.6"
  },
  "interpreter": {
   "hash": "aee8b7b246df8f9039afb4144a1f6fd8d2ca17a180786b69acc140d282b71a49"
  }
 },
 "nbformat": 4,
 "nbformat_minor": 4
}